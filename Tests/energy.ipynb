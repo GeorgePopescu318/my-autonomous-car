{
 "cells": [
  {
   "cell_type": "markdown",
   "metadata": {},
   "source": [
    "## Applying Energy Path algtm to road photos"
   ]
  },
  {
   "cell_type": "code",
   "execution_count": 143,
   "metadata": {},
   "outputs": [],
   "source": [
    "import cv2\n",
    "import numpy as np\n",
    "import matplotlib as plt"
   ]
  },
  {
   "cell_type": "code",
   "execution_count": 144,
   "metadata": {},
   "outputs": [],
   "source": [
    "RED = (0, 0, 255)"
   ]
  },
  {
   "cell_type": "code",
   "execution_count": 145,
   "metadata": {},
   "outputs": [],
   "source": [
    "img = cv2.imread(\"C:\\Programs/facultate/licenta/my-autonomous-car/resources/fullcurve.png\")\n"
   ]
  },
  {
   "cell_type": "code",
   "execution_count": 146,
   "metadata": {},
   "outputs": [
    {
     "name": "stdout",
     "output_type": "stream",
     "text": [
      "[[[207 212 209]\n",
      "  [220 225 222]\n",
      "  [224 230 225]\n",
      "  ...\n",
      "  [104 109 108]\n",
      "  [107 111 111]\n",
      "  [111 116 115]]\n",
      "\n",
      " [[201 207 203]\n",
      "  [224 230 226]\n",
      "  [222 228 223]\n",
      "  ...\n",
      "  [175 180 179]\n",
      "  [175 180 179]\n",
      "  [174 179 178]]\n",
      "\n",
      " [[181 187 184]\n",
      "  [227 232 229]\n",
      "  [224 230 225]\n",
      "  ...\n",
      "  [185 189 189]\n",
      "  [183 188 187]\n",
      "  [181 186 185]]\n",
      "\n",
      " ...\n",
      "\n",
      " [[ 66  70  64]\n",
      "  [ 66  70  64]\n",
      "  [ 66  70  64]\n",
      "  ...\n",
      "  [ 56  60  56]\n",
      "  [ 56  60  55]\n",
      "  [ 56  60  55]]\n",
      "\n",
      " [[ 66  70  64]\n",
      "  [ 66  70  64]\n",
      "  [ 66  70  64]\n",
      "  ...\n",
      "  [ 56  60  56]\n",
      "  [ 56  60  55]\n",
      "  [ 56  60  55]]\n",
      "\n",
      " [[ 66  70  64]\n",
      "  [ 66  70  64]\n",
      "  [ 66  70  64]\n",
      "  ...\n",
      "  [ 56  60  56]\n",
      "  [ 56  60  55]\n",
      "  [ 56  60  55]]]\n"
     ]
    }
   ],
   "source": [
    "print(img)"
   ]
  },
  {
   "cell_type": "code",
   "execution_count": 147,
   "metadata": {},
   "outputs": [],
   "source": [
    "\n",
    "cv2.imshow(\"original\",img)\n",
    "cv2.waitKey(0)\n",
    "cv2.destroyAllWindows()"
   ]
  },
  {
   "cell_type": "code",
   "execution_count": 148,
   "metadata": {},
   "outputs": [],
   "source": [
    "gray = cv2.cvtColor(img, cv2.COLOR_BGR2GRAY)\n",
    "\n",
    "cv2.imshow(\"gray\",gray)\n",
    "cv2.waitKey(0)\n",
    "cv2.destroyAllWindows()"
   ]
  },
  {
   "cell_type": "markdown",
   "metadata": {},
   "source": [
    "### Gaussian Blur"
   ]
  },
  {
   "cell_type": "code",
   "execution_count": 149,
   "metadata": {},
   "outputs": [],
   "source": [
    "blurred = cv2.GaussianBlur(gray,(3,3),3)\n",
    "\n",
    "cv2.imshow(\"blurred\",blurred)\n",
    "cv2.waitKey(0)\n",
    "cv2.destroyAllWindows()"
   ]
  },
  {
   "cell_type": "markdown",
   "metadata": {},
   "source": [
    "### Bilateral blur\n"
   ]
  },
  {
   "cell_type": "code",
   "execution_count": 150,
   "metadata": {},
   "outputs": [],
   "source": [
    "bilateralBlurred = cv2.bilateralFilter(gray, 11, 21, 7)\n",
    "\n",
    "cv2.imshow(\"bilateral Blurred\",bilateralBlurred)\n",
    "cv2.waitKey(0)\n",
    "cv2.destroyAllWindows()"
   ]
  },
  {
   "cell_type": "code",
   "execution_count": 151,
   "metadata": {},
   "outputs": [],
   "source": [
    "blurred = cv2.GaussianBlur(gray,(3,3),3)\n",
    "bilateralBlurred = cv2.bilateralFilter(gray, 11, 21, 7)\n",
    "\n",
    "cv2.imshow(\"bilateral Blurred\",bilateralBlurred)\n",
    "\n",
    "\n",
    "cv2.imshow(\"blurred\",blurred)\n",
    "\n",
    "cv2.waitKey(0)\n",
    "cv2.destroyAllWindows()"
   ]
  },
  {
   "cell_type": "markdown",
   "metadata": {},
   "source": [
    "### Classic binary thresholding"
   ]
  },
  {
   "cell_type": "code",
   "execution_count": 152,
   "metadata": {},
   "outputs": [],
   "source": [
    "_, threshClassis = cv2.threshold(blurred, 170, 255, cv2.THRESH_BINARY)\n",
    "# cv2.imwrite(\"classicTresh.jpg\",threshClassis)\n",
    "cv2.imshow(\"classic thresh\",threshClassis)\n",
    "cv2.waitKey(0)\n",
    "cv2.destroyAllWindows()"
   ]
  },
  {
   "cell_type": "markdown",
   "metadata": {},
   "source": [
    "### Otsu's thresholding"
   ]
  },
  {
   "cell_type": "code",
   "execution_count": 153,
   "metadata": {},
   "outputs": [
    {
     "name": "stdout",
     "output_type": "stream",
     "text": [
      "137.0\n"
     ]
    }
   ],
   "source": [
    "T, threshOtsu = cv2.threshold(blurred, 0, 255, cv2.THRESH_BINARY | cv2.THRESH_OTSU)\n",
    "# cv2.imwrite(\"classicTresh.jpg\",threshClassis)\n",
    "print(T)\n",
    "cv2.imshow(\"classic thresh\",threshOtsu)\n",
    "cv2.waitKey(0)\n",
    "cv2.destroyAllWindows()"
   ]
  },
  {
   "cell_type": "markdown",
   "metadata": {},
   "source": [
    "### Adaptive binary thresholding"
   ]
  },
  {
   "cell_type": "code",
   "execution_count": 154,
   "metadata": {},
   "outputs": [],
   "source": [
    "threshAdap = cv2.adaptiveThreshold(blurred, 255,\n",
    "\tcv2.ADAPTIVE_THRESH_GAUSSIAN_C, cv2.THRESH_BINARY_INV, 5, 10)\n",
    "\n",
    "cv2.imshow(\"adaptive thresh\",threshAdap)\n",
    "cv2.waitKey(0)\n",
    "cv2.destroyAllWindows()"
   ]
  },
  {
   "cell_type": "code",
   "execution_count": 155,
   "metadata": {},
   "outputs": [],
   "source": [
    "blurred = cv2.GaussianBlur(gray,(5,5),0)\n",
    "# blurred = cv2.equalizeHist(blurred)\n",
    "\n",
    "# threshAdap = cv2.adaptiveThreshold(blurred, 255,\n",
    "#     cv2.ADAPTIVE_THRESH_GAUSSIAN_C, cv2.THRESH_BINARY_INV, 11, 2)\n",
    "_, threshClassis = cv2.threshold(blurred, 170, 255, cv2.THRESH_BINARY)\n",
    "kernel = cv2.getStructuringElement(cv2.MORPH_RECT, (3, 3))\n",
    "closed = cv2.morphologyEx(threshClassis, cv2.MORPH_OPEN, kernel)\n",
    "cv2.imshow(\"blurred\",closed)\n",
    "cv2.waitKey(0)\n",
    "cv2.destroyAllWindows()"
   ]
  },
  {
   "cell_type": "markdown",
   "metadata": {},
   "source": [
    "### Morphological ops"
   ]
  },
  {
   "cell_type": "code",
   "execution_count": 156,
   "metadata": {},
   "outputs": [],
   "source": [
    "kernel = np.ones((5,5),np.uint8)\n",
    "closing = cv2.morphologyEx(threshClassis, cv2.MORPH_CLOSE, kernel)\n",
    "cv2.imshow(\"closed img\",closing)\n",
    "cv2.waitKey(0)\n",
    "cv2.destroyAllWindows()"
   ]
  },
  {
   "cell_type": "code",
   "execution_count": 157,
   "metadata": {},
   "outputs": [],
   "source": [
    "kernel = np.ones((3,3),np.uint8)\n",
    "opening = cv2.morphologyEx(threshClassis, cv2.MORPH_OPEN, kernel)\n",
    "cv2.imshow(\"opened img\",opening)\n",
    "cv2.waitKey(0)\n",
    "cv2.destroyAllWindows()"
   ]
  },
  {
   "cell_type": "markdown",
   "metadata": {},
   "source": [
    "### TESTS"
   ]
  },
  {
   "cell_type": "code",
   "execution_count": 158,
   "metadata": {},
   "outputs": [],
   "source": [
    "_, threshClassis = cv2.threshold(blurred, 185, 255, cv2.THRESH_BINARY)\n",
    "# kernel = np.ones((3,3),np.uint8)\n",
    "kernel = cv2.getGaussianKernel(5,5)\n",
    "closing = cv2.morphologyEx(threshClassis, cv2.MORPH_CLOSE, kernel)\n",
    "opening = cv2.morphologyEx(threshClassis, cv2.MORPH_OPEN, kernel)\n",
    "\n",
    "# cv2.imwrite(\"classicTresh.jpg\",threshClassis)\n",
    "cv2.imshow(\"classic thresh\",threshClassis)\n",
    "cv2.imshow(\"opened img\",opening)\n",
    "cv2.imshow(\"closed img\",closing)\n",
    "cv2.waitKey(0)\n",
    "cv2.destroyAllWindows()"
   ]
  },
  {
   "cell_type": "code",
   "execution_count": 159,
   "metadata": {},
   "outputs": [],
   "source": [
    "blurred = cv2.GaussianBlur(gray,(3,3),0)\n",
    "cv2.imshow(\"blur clasic img\",blurred)\n",
    "bilateralBlurred = cv2.bilateralFilter(gray, 11, 21, 7)\n",
    "cv2.imshow(\"blur bilateral img\",bilateralBlurred)\n",
    "_, threshClassis = cv2.threshold(blurred, 185, 255, cv2.THRESH_BINARY)\n",
    "cv2.imshow(\"thresh clasic  + blurimg\",threshClassis)\n",
    "_, threshClassis = cv2.threshold(bilateralBlurred, 185, 255, cv2.THRESH_BINARY)\n",
    "cv2.imshow(\"thresh clasic + biblur img\",threshClassis)\n",
    "kernel = cv2.getStructuringElement(cv2.MORPH_ELLIPSE, (15, 15))\n",
    "closing = cv2.morphologyEx(threshClassis, cv2.MORPH_CLOSE, kernel)\n",
    "cv2.imshow(\"closed img\",closing)\n",
    "kernel1 = np.ones((3,3),np.uint8)\n",
    "opening = cv2.morphologyEx(threshClassis, cv2.MORPH_OPEN, kernel1)\n",
    "# cv2.imshow(\"opened img\",opening)\n",
    "kernel2 = np.ones((3,3),np.uint8)\n",
    "opening = cv2.morphologyEx(closing, cv2.MORPH_OPEN, kernel2)\n",
    "# cv2.imshow(\"both img\",opening)\n",
    "cv2.waitKey(0)\n",
    "cv2.destroyAllWindows()"
   ]
  },
  {
   "cell_type": "markdown",
   "metadata": {},
   "source": [
    "### Gradient making"
   ]
  },
  {
   "cell_type": "code",
   "execution_count": 160,
   "metadata": {},
   "outputs": [],
   "source": [
    "def compute_energy(img):\n",
    "    \"\"\"\n",
    "    calculeaza energia la fiecare pixel pe baza gradientului\n",
    "    :param img: imaginea initiala\n",
    "    :return:E - energia\n",
    "    \"\"\"\n",
    "    # urmati urmatorii pasi:\n",
    "    # 1. transformati imagine in grayscale\n",
    "    # 2. folositi filtru sobel pentru a calcula gradientul in directia X si Y\n",
    "    # 3. calculati magnitudinea pentru fiecare pixel al imaginii\n",
    "    E = np.zeros((img.shape[0],img.shape[1]))\n",
    "    # img_grey = cv2.cvtColor(img,cv2.COLOR_BGR2GRAY)\n",
    "    grad_x = cv2.Sobel(img,ddepth=cv2.CV_16S,dx=1,dy=0)\n",
    "    grad_y = cv2.Sobel(img,ddepth=cv2.CV_16S,dx=0,dy=1)\n",
    "\n",
    "    abs_x = np.abs(grad_x)\n",
    "    abs_y = np.abs(grad_y)\n",
    "\n",
    "    E = abs_x + abs_y\n",
    "\n",
    "    return E"
   ]
  },
  {
   "cell_type": "code",
   "execution_count": 161,
   "metadata": {},
   "outputs": [],
   "source": [
    "def compute_energy_v2(img):\n",
    "    ksize = 3\n",
    "\n",
    "    gX = cv2.Sobel(img, ddepth=cv2.CV_32F, dx=1, dy=0, ksize=ksize)\n",
    "    gY = cv2.Sobel(img, ddepth=cv2.CV_32F, dx=0, dy=1, ksize=ksize)\n",
    "\n",
    "    gX = cv2.convertScaleAbs(gX)\n",
    "    gY = cv2.convertScaleAbs(gY)\n",
    "\n",
    "    # combined = cv2.addWeighted(gX, 0.5, gY, 0.5, 0)\n",
    "\n",
    "    magnitude = np.sqrt((gX ** 2) + (gY ** 2))\n",
    "    # magnitude = gX + gY\n",
    "\n",
    "    return magnitude\n"
   ]
  },
  {
   "cell_type": "code",
   "execution_count": 162,
   "metadata": {},
   "outputs": [],
   "source": [
    "combined = compute_energy_v2(threshClassis)\n",
    "\n",
    "# cv2.imshow(\"pre\", pre)\n",
    "# cv2.imshow(\"Sobel/Scharr Combined\", combined)\n",
    "cv2.waitKey(0)\n",
    "cv2.destroyAllWindows()"
   ]
  },
  {
   "cell_type": "code",
   "execution_count": 163,
   "metadata": {},
   "outputs": [],
   "source": [
    "gradient = compute_energy(opening)\n",
    "cv2.imshow(\"gradient img\",gradient)\n",
    "cv2.waitKey(0)\n",
    "cv2.destroyAllWindows()"
   ]
  },
  {
   "cell_type": "code",
   "execution_count": 164,
   "metadata": {},
   "outputs": [],
   "source": [
    "def select_dynamic_programming_path_going_up(E):\n",
    "    M = np.zeros(E.shape)\n",
    "    M[0,:] = E[0,:]\n",
    "    for i in range(1,E.shape[0]):\n",
    "        for j  in range (E.shape[1]):\n",
    "            if j == 0:\n",
    "                M[i][j] = E[i,j]+max(M[i-1,0],M[i-1,1])\n",
    "            elif j == E.shape[1] - 1:\n",
    "                M[i,j] = E[i,j]+max(M[i-1,j],M[i-1,j-1])\n",
    "            else:\n",
    "                M[i,j] = E[i,j]+max(M[i-1,j+1],M[i-1,j],M[i-1,j-1])\n",
    "    line = M.shape[0] - 1\n",
    "    col = np.argmax(M[line,:])\n",
    "    # print(np.max(M[line,:]))\n",
    "    path = [0 for i in range(line+1)]\n",
    "\n",
    "    path[line] = (line,col)\n",
    "    \n",
    "    for line in range(M.shape[0]-2,-1,-1):\n",
    "        if col == 0:\n",
    "            if M[line,0] < M[line,1]:\n",
    "                new_col = 1\n",
    "            else:\n",
    "                new_col = 0\n",
    "        elif col == E.shape[1] - 1:\n",
    "            if M[line,col] < M[line,col-1]:\n",
    "                new_col = col - 1\n",
    "            else:\n",
    "                new_col = col\n",
    "        else:\n",
    "            neigh = np.array([M[line,col-1],M[line,col],M[line,col+1]])\n",
    "            new_col = col+np.argmax(neigh) - 1\n",
    "\n",
    "        path[line]= (line,new_col)\n",
    "\n",
    "        col = new_col\n",
    "\n",
    "    return path"
   ]
  },
  {
   "cell_type": "code",
   "execution_count": 165,
   "metadata": {},
   "outputs": [],
   "source": [
    "def select_dynamic_programming_path_going_sideways(E):\n",
    "    M = np.zeros(E.shape)\n",
    "    M[0,:] = E[0,:]\n",
    "    for i in range(1,E.shape[0]):\n",
    "        for j  in range (E.shape[1]):\n",
    "            if j == 0:\n",
    "                M[i][j] = E[i,j]+max(M[i-1,0],M[i-1,1])\n",
    "            elif j == E.shape[1] - 1:\n",
    "                M[i,j] = E[i,j]+max(M[i-1,j],M[i-1,j-1])\n",
    "            else:\n",
    "                M[i,j] = E[i,j]+max(M[i-1,j+1],M[i-1,j],M[i-1,j-1],M[i][j+1],M[i][j-1])\n",
    "    line = M.shape[0] - 1\n",
    "    col = np.argmax(M[line,:])\n",
    "    # print(np.max(M[line,:]))\n",
    "    path = [0 for _ in range(60)]\n",
    "    # path = []\n",
    "    index = 0\n",
    "\n",
    "    path[index] = (line,col)\n",
    "\n",
    "    lineIndex = M.shape[0]-1\n",
    "    nextLine = False\n",
    "    while lineIndex > 0 and col >= 0 and col < M.shape[1] and index != 50:\n",
    "        if col == 0:\n",
    "            # if M[lineIndex,0] < M[lineIndex,1]:\n",
    "            #     new_col = 1\n",
    "            #     nextLine = False\n",
    "            # else:\n",
    "            #     new_col = 0\n",
    "            #     nextLine = False\n",
    "            if M[lineIndex-1,0] < M[lineIndex-1,1]:\n",
    "                new_col = 1\n",
    "                nextLine = True\n",
    "            else:\n",
    "                new_col = 0\n",
    "                nextLine = True\n",
    "        elif col == E.shape[1] - 1:\n",
    "            if M[lineIndex-1,col] < M[lineIndex-1,col-1]:\n",
    "                new_col = col - 1\n",
    "                nextLine = True\n",
    "            else:\n",
    "                new_col = col\n",
    "                nextLine = True\n",
    "        else:\n",
    "            same_line = np.array([M[lineIndex,col-1],M[lineIndex,col+1]])\n",
    "            upper_line = np.array([M[lineIndex-1,col-1],M[lineIndex-1,col],M[lineIndex-1,col+1]])\n",
    "            if np.max(same_line) > np.max(upper_line):\n",
    "                new_col = col+np.argmax(same_line) - 1\n",
    "                nextLine = False\n",
    "            else:\n",
    "                new_col = col+np.argmax(upper_line) - 1\n",
    "                nextLine = True\n",
    "\n",
    "        if nextLine:\n",
    "            lineIndex -= 1\n",
    "\n",
    "        index += 1  \n",
    "        path[index]= (lineIndex,new_col)\n",
    "\n",
    "        col = new_col\n",
    "    \n",
    "    return path"
   ]
  },
  {
   "cell_type": "code",
   "execution_count": 166,
   "metadata": {},
   "outputs": [],
   "source": [
    "def select_dynamic_programming_path_going_up_point_start(E,point): #TODO Sa incerc sa tin pathul in interiorul benzii si sa nu fac pe 2 imagini diferite    \n",
    "    M = np.zeros(E.shape)\n",
    "    M[0,:] = E[0,:]\n",
    "    for i in range(1,E.shape[0]):\n",
    "        for j  in range (E.shape[1]):\n",
    "            if j == 0:\n",
    "                M[i][j] = E[i,j]+max(M[i-1,0],M[i-1,1])\n",
    "            elif j == E.shape[1] - 1:\n",
    "                M[i,j] = E[i,j]+max(M[i-1,j],M[i-1,j-1])\n",
    "            elif j >= 2 and j <= E.shape[1] - 3:\n",
    "                M[i,j] = E[i,j]+max(M[i-1,j+1],M[i-1,j],M[i-1,j-1],M[i-1,j-2],M[i-1,j+2])\n",
    "            else:\n",
    "                M[i,j] = E[i,j]+max(M[i-1,j+1],M[i-1,j],M[i-1,j-1])\n",
    "    line = M.shape[0] - 1\n",
    "    # col = np.argmax(M[line,:])\n",
    "    col = point\n",
    "    # print(np.max(M[line,:]))\n",
    "    path = [(0,0) for i in range(line+1)]\n",
    "\n",
    "    path[line] = (line,point)\n",
    "\n",
    "    direction = point\n",
    "    \n",
    "    for line in range(M.shape[0]-2,60,-1):\n",
    "        if col == 0:\n",
    "            if M[line,0] < M[line,1]:\n",
    "                new_col = 1\n",
    "            else:\n",
    "                new_col = 0\n",
    "        elif col == E.shape[1] - 1:\n",
    "            if M[line,col] < M[line,col-1]:\n",
    "                new_col = col - 1\n",
    "            else:\n",
    "                new_col = col\n",
    "        elif col >= 2 and col <= E.shape[1] - 3:\n",
    "            if not (M[line,col-1] == M[line,col] == M[line,col+1] == M[line,col-2] == M[line,col+2]):\n",
    "                neigh = np.array([M[line,col-2],M[line,col-1],M[line,col],M[line,col+1],M[line,col+2]]) #TODO proiectia parcursului actual al masinii cu unghiul actual al rotilor\n",
    "                new_col = col+np.argmax(neigh) - 2\n",
    "            else:\n",
    "                new_col = col - (direction - col)\n",
    "                # new_col = col\n",
    "                # if M[line,new_col] == 0 and new_col > 0:\n",
    "                #     new_col -= 1\n",
    "        else:\n",
    "            if not (M[line,col-1] == M[line,col] == M[line,col+1]):\n",
    "                neigh = np.array([M[line,col-1],M[line,col],M[line,col+1]]) #TODO proiectia parcursului actual al masinii cu unghiul actual al rotilor\n",
    "                new_col = col+np.argmax(neigh) - 1\n",
    "            else:\n",
    "                new_col = col - (direction - col)\n",
    "        # if col - 1 > 1 and col + 1 < E.shape[1] - 2:\n",
    "        #     print(M[line,col-2],M[line,col-1],M[line,col],M[line,col+1],M[line,col+2],end=\" \")\n",
    "        #     print(line,end=\" \")\n",
    "        #     print(new_col)\n",
    "        direction = col\n",
    "\n",
    "        path[line]= (line,new_col)\n",
    "\n",
    "        col = new_col\n",
    "\n",
    "    return path"
   ]
  },
  {
   "cell_type": "code",
   "execution_count": 167,
   "metadata": {},
   "outputs": [],
   "source": [
    "def create_path(img, pathL,pathR, color):\n",
    "    \n",
    "    new_image = img.copy()\n",
    "\n",
    "    for row, col in pathL:\n",
    "        new_image[row, col] = color\n",
    "\n",
    "    for row, col in pathR:\n",
    "        new_image[row, col] = color\n",
    "\n",
    "    # E = compute_energy(img)\n",
    "    # new_image_E = img.copy()\n",
    "    # new_image_E[:,:,0] = E.copy()\n",
    "    # new_image_E[:,:,1] = E.copy()\n",
    "    # new_image_E[:,:,2] = E.copy()\n",
    "\n",
    "    # for row, col in path:\n",
    "    #     new_image_E[row, col] = color\n",
    "    # cv2.imshow(name, np.uint8(new_image))\n",
    "    return new_image\n",
    "    # cv2.imshow('path E', np.uint8(new_image_E))\n",
    "    # cv2.waitKey(0)\n",
    "    # cv2.destroyAllWindows()\n"
   ]
  },
  {
   "cell_type": "code",
   "execution_count": 176,
   "metadata": {},
   "outputs": [],
   "source": [
    "def preprocess(img):\n",
    "    gray = cv2.cvtColor(img, cv2.COLOR_BGR2GRAY)\n",
    "\n",
    "    blurred = cv2.GaussianBlur(gray,(3,3),0)\n",
    "\n",
    "    _, threshClassis = cv2.threshold(blurred, 190, 255, cv2.THRESH_BINARY)\n",
    "    \n",
    "    kernel = cv2.getStructuringElement(cv2.MORPH_DILATE, (15, 15))\n",
    "    # closing = cv2.morphologyEx(threshClassis, cv2.MORPH_CLOSE, kernel)\n",
    "\n",
    "    return threshClassis\n"
   ]
  },
  {
   "cell_type": "code",
   "execution_count": 169,
   "metadata": {},
   "outputs": [],
   "source": [
    "pre = preprocess(img)\n",
    "preL = pre[:,:int(pre.shape[1]/2)]\n",
    "preR = pre[:,int(pre.shape[1]/2):]\n",
    "cv2.imshow('PreR', preR)\n",
    "cv2.waitKey(0)\n",
    "cv2.destroyAllWindows()"
   ]
  },
  {
   "cell_type": "code",
   "execution_count": 170,
   "metadata": {},
   "outputs": [],
   "source": [
    "pre = preprocess(img)\n",
    "grad = compute_energy(pre)\n",
    "cv2.imshow('Pre', pre)\n",
    "cv2.imshow('grad', grad)\n",
    "cv2.waitKey(0)\n",
    "cv2.destroyAllWindows()"
   ]
  },
  {
   "cell_type": "markdown",
   "metadata": {},
   "source": [
    "### Histogram"
   ]
  },
  {
   "cell_type": "code",
   "execution_count": 171,
   "metadata": {},
   "outputs": [],
   "source": [
    "def get_lane_start(img):\n",
    "    histogram = np.sum(img[img.shape[0] // 2:, :], axis = 0)\n",
    "\n",
    "    midpoint = int(histogram.shape[0] / 2)\n",
    "\n",
    "    leftxBase = np.argmax(histogram[:midpoint])\n",
    "    rightxBase = np.argmax(histogram[midpoint:]) + midpoint\n",
    "\n",
    "    return leftxBase,rightxBase"
   ]
  },
  {
   "cell_type": "code",
   "execution_count": 172,
   "metadata": {},
   "outputs": [
    {
     "name": "stdout",
     "output_type": "stream",
     "text": [
      "[(0, 0), (0, 0), (0, 0), (0, 0), (0, 0), (0, 0), (0, 0), (0, 0), (0, 0), (0, 0), (0, 0), (0, 0), (0, 0), (0, 0), (0, 0), (0, 0), (0, 0), (0, 0), (0, 0), (0, 0), (0, 0), (0, 0), (0, 0), (0, 0), (0, 0), (0, 0), (0, 0), (0, 0), (0, 0), (0, 0), (0, 0), (0, 0), (0, 0), (0, 0), (0, 0), (0, 0), (0, 0), (0, 0), (0, 0), (0, 0), (0, 0), (0, 0), (0, 0), (0, 0), (0, 0), (0, 0), (0, 0), (0, 0), (0, 0), (0, 0), (0, 0), (0, 0), (0, 0), (0, 0), (0, 0), (0, 0), (0, 0), (0, 0), (0, 0), (0, 0), (0, 0), (61, np.int64(10)), (62, np.int64(11)), (63, np.int64(13)), (64, np.int64(15)), (65, np.int64(17)), (66, np.int64(18)), (67, np.int64(20)), (68, np.int64(21)), (69, np.int64(22)), (70, np.int64(23)), (71, np.int64(25)), (72, np.int64(26)), (73, np.int64(27)), (74, np.int64(28)), (75, np.int64(29)), (76, np.int64(30)), (77, np.int64(30)), (78, np.int64(31)), (79, np.int64(32)), (80, np.int64(32)), (81, np.int64(33)), (82, np.int64(34)), (83, np.int64(34)), (84, np.int64(34)), (85, np.int64(35)), (86, np.int64(35)), (87, np.int64(35)), (88, np.int64(36)), (89, np.int64(36)), (90, np.int64(36)), (91, np.int64(36)), (92, np.int64(37)), (93, np.int64(37)), (94, np.int64(37)), (95, np.int64(37)), (96, np.int64(37)), (97, np.int64(37)), (98, np.int64(37)), (99, np.int64(37)), (100, np.int64(37)), (101, np.int64(37)), (102, np.int64(36)), (103, np.int64(36)), (104, np.int64(36)), (105, np.int64(36)), (106, np.int64(36)), (107, np.int64(36)), (108, np.int64(35)), (109, np.int64(35)), (110, np.int64(35)), (111, np.int64(35)), (112, np.int64(34)), (113, np.int64(34)), (114, np.int64(34)), (115, np.int64(34)), (116, np.int64(33)), (117, np.int64(33)), (118, np.int64(33)), (119, np.int64(32)), (120, np.int64(32)), (121, np.int64(32)), (122, np.int64(31)), (123, np.int64(31)), (124, np.int64(30)), (125, np.int64(30)), (126, np.int64(30)), (127, np.int64(29)), (128, np.int64(29)), (129, np.int64(28)), (130, np.int64(28)), (131, np.int64(27)), (132, np.int64(27)), (133, np.int64(27)), (134, np.int64(26)), (135, np.int64(26)), (136, np.int64(25)), (137, np.int64(25)), (138, np.int64(24)), (139, np.int64(24)), (140, np.int64(23)), (141, np.int64(23)), (142, np.int64(22)), (143, np.int64(22)), (144, np.int64(21)), (145, np.int64(21)), (146, np.int64(20)), (147, np.int64(19)), (148, np.int64(19)), (149, np.int64(18)), (150, np.int64(18)), (151, np.int64(17)), (152, np.int64(17)), (153, np.int64(16)), (154, np.int64(16)), (155, np.int64(15)), (156, np.int64(14)), (157, np.int64(14)), (158, np.int64(13)), (159, np.int64(13)), (160, np.int64(12)), (161, np.int64(12)), (162, np.int64(11)), (163, np.int64(10)), (164, np.int64(10)), (165, np.int64(9)), (166, np.int64(9)), (167, np.int64(8)), (168, np.int64(7)), (169, np.int64(7)), (170, np.int64(6)), (171, np.int64(6)), (172, np.int64(5)), (173, np.int64(4)), (174, np.int64(4)), (175, np.int64(3)), (176, np.int64(2)), (177, np.int64(2)), (178, np.int64(1)), (179, np.int64(1)), (180, np.int64(1)), (181, np.int64(1)), (182, 1), (183, 0), (184, 0), (185, 0), (186, 0), (187, 0), (188, 0), (189, 0), (190, 0), (191, 0), (192, 0), (193, 0), (194, 0), (195, 0), (196, 0), (197, 0), (198, 0), (199, 0), (200, 0), (201, 0), (202, 0), (203, 0), (204, 0), (205, 0), (206, 0), (207, 0), (208, 0), (209, 0), (210, 0), (211, 0), (212, 0), (213, 0), (214, 0), (215, 0), (216, 0), (217, 0), (218, 0), (219, 0), (220, 0), (221, 0), (222, 0), (223, 0), (224, 0), (225, 0), (226, 0), (227, 0), (228, 0), (229, 0), (230, 0), (231, 0), (232, 0), (233, 0), (234, 0), (235, 0), (236, 0), (237, 0), (238, 0), (239, np.int64(0))]\n",
      "[(0, 0), (0, 0), (0, 0), (0, 0), (0, 0), (0, 0), (0, 0), (0, 0), (0, 0), (0, 0), (0, 0), (0, 0), (0, 0), (0, 0), (0, 0), (0, 0), (0, 0), (0, 0), (0, 0), (0, 0), (0, 0), (0, 0), (0, 0), (0, 0), (0, 0), (0, 0), (0, 0), (0, 0), (0, 0), (0, 0), (0, 0), (0, 0), (0, 0), (0, 0), (0, 0), (0, 0), (0, 0), (0, 0), (0, 0), (0, 0), (0, 0), (0, 0), (0, 0), (0, 0), (0, 0), (0, 0), (0, 0), (0, 0), (0, 0), (0, 0), (0, 0), (0, 0), (0, 0), (0, 0), (0, 0), (0, 0), (0, 0), (0, 0), (0, 0), (0, 0), (0, 0), (61, np.int64(142)), (62, np.int64(144)), (63, np.int64(146)), (64, np.int64(148)), (65, np.int64(150)), (66, np.int64(152)), (67, np.int64(154)), (68, np.int64(156)), (69, np.int64(158)), (70, np.int64(160)), (71, np.int64(162)), (72, np.int64(164)), (73, np.int64(166)), (74, np.int64(167)), (75, np.int64(169)), (76, np.int64(171)), (77, np.int64(173)), (78, np.int64(174)), (79, np.int64(176)), (80, np.int64(178)), (81, np.int64(179)), (82, np.int64(181)), (83, np.int64(183)), (84, np.int64(185)), (85, np.int64(186)), (86, np.int64(187)), (87, np.int64(188)), (88, np.int64(190)), (89, np.int64(192)), (90, np.int64(194)), (91, np.int64(195)), (92, np.int64(196)), (93, np.int64(197)), (94, np.int64(198)), (95, np.int64(200)), (96, np.int64(202)), (97, np.int64(203)), (98, np.int64(204)), (99, np.int64(205)), (100, np.int64(206)), (101, np.int64(208)), (102, np.int64(209)), (103, np.int64(210)), (104, np.int64(211)), (105, np.int64(213)), (106, np.int64(214)), (107, np.int64(215)), (108, np.int64(216)), (109, np.int64(217)), (110, np.int64(218)), (111, np.int64(219)), (112, np.int64(220)), (113, np.int64(222)), (114, np.int64(223)), (115, np.int64(224)), (116, np.int64(225)), (117, np.int64(226)), (118, np.int64(227)), (119, np.int64(228)), (120, np.int64(229)), (121, np.int64(230)), (122, np.int64(231)), (123, np.int64(232)), (124, np.int64(233)), (125, np.int64(234)), (126, np.int64(235)), (127, np.int64(236)), (128, np.int64(237)), (129, np.int64(238)), (130, np.int64(239)), (131, np.int64(240)), (132, np.int64(241)), (133, np.int64(242)), (134, np.int64(243)), (135, np.int64(244)), (136, np.int64(245)), (137, np.int64(246)), (138, np.int64(247)), (139, np.int64(248)), (140, np.int64(249)), (141, np.int64(250)), (142, np.int64(251)), (143, np.int64(252)), (144, np.int64(253)), (145, np.int64(254)), (146, np.int64(255)), (147, np.int64(255)), (148, np.int64(256)), (149, np.int64(257)), (150, np.int64(258)), (151, np.int64(259)), (152, np.int64(260)), (153, np.int64(261)), (154, np.int64(262)), (155, np.int64(263)), (156, np.int64(264)), (157, np.int64(264)), (158, np.int64(265)), (159, np.int64(266)), (160, np.int64(267)), (161, np.int64(268)), (162, np.int64(269)), (163, np.int64(270)), (164, np.int64(271)), (165, np.int64(271)), (166, np.int64(272)), (167, np.int64(273)), (168, np.int64(274)), (169, np.int64(275)), (170, np.int64(276)), (171, np.int64(276)), (172, np.int64(277)), (173, np.int64(278)), (174, np.int64(279)), (175, np.int64(280)), (176, np.int64(281)), (177, np.int64(281)), (178, np.int64(282)), (179, np.int64(283)), (180, np.int64(284)), (181, np.int64(285)), (182, np.int64(285)), (183, np.int64(286)), (184, np.int64(287)), (185, np.int64(288)), (186, np.int64(289)), (187, np.int64(289)), (188, np.int64(290)), (189, np.int64(291)), (190, np.int64(292)), (191, np.int64(293)), (192, np.int64(293)), (193, np.int64(294)), (194, np.int64(295)), (195, np.int64(296)), (196, np.int64(297)), (197, np.int64(297)), (198, np.int64(298)), (199, np.int64(299)), (200, np.int64(300)), (201, np.int64(300)), (202, np.int64(301)), (203, np.int64(302)), (204, np.int64(303)), (205, np.int64(303)), (206, np.int64(304)), (207, np.int64(305)), (208, np.int64(306)), (209, np.int64(306)), (210, np.int64(307)), (211, np.int64(308)), (212, np.int64(309)), (213, np.int64(309)), (214, np.int64(310)), (215, np.int64(311)), (216, np.int64(312)), (217, np.int64(313)), (218, np.int64(313)), (219, np.int64(314)), (220, np.int64(315)), (221, np.int64(316)), (222, np.int64(316)), (223, np.int64(317)), (224, np.int64(318)), (225, np.int64(318)), (226, np.int64(318)), (227, np.int64(318)), (228, np.int64(318)), (229, np.int64(318)), (230, np.int64(318)), (231, np.int64(318)), (232, np.int64(318)), (233, np.int64(318)), (234, np.int64(318)), (235, np.int64(318)), (236, np.int64(318)), (237, np.int64(318)), (238, np.int64(318)), (239, np.int64(318))]\n"
     ]
    }
   ],
   "source": [
    "pre = preprocess(img)\n",
    "leftxBase,rightxBase = get_lane_start(pre)\n",
    "# print(leftxBase)\n",
    "# print(rightxBase)\n",
    "pre[:20,:] = 0\n",
    "# cv2.imshow(\"grad Image\",pre)\n",
    "grad = compute_energy_v2(pre)\n",
    "# print(grad[104])\n",
    "# cv2.imshow(\"grad1 Image\",grad)\n",
    "grad1 = compute_energy(pre)\n",
    "# cv2.imshow(\"grad11 Image\",grad1) \n",
    "# cv2.imshow(\"grad Image\",pre)\n",
    "# print(grad.shape)\n",
    "pathL = select_dynamic_programming_path_going_up_point_start(grad,leftxBase)\n",
    "pathR = select_dynamic_programming_path_going_up_point_start(grad,rightxBase)\n",
    "print(pathL)\n",
    "print(pathR)\n",
    "new_img = create_path(img,pathL,pathR,RED) \n",
    "cv2.imshow(\"New Image\",new_img)\n",
    "cv2.imwrite(\"path.jpg\",new_img)\n",
    "cv2.waitKey(0)\n",
    "cv2.destroyAllWindows()"
   ]
  },
  {
   "cell_type": "markdown",
   "metadata": {},
   "source": [
    "### Pathfinding going always up"
   ]
  },
  {
   "cell_type": "markdown",
   "metadata": {},
   "source": [
    "### Pathfinding going sideways as well"
   ]
  },
  {
   "cell_type": "code",
   "execution_count": 177,
   "metadata": {},
   "outputs": [],
   "source": [
    "cap = cv2.VideoCapture('C:/Programs/facultate/licenta/my-autonomous-car/resources/1.mp4')\n",
    " \n",
    "while cap.isOpened():\n",
    "    ret, frame = cap.read()\n",
    " \n",
    "    # if frame is read correctly ret is True\n",
    "    if not ret:\n",
    "        print(\"Can't receive frame (stream end?). Exiting ...\")\n",
    "        break\n",
    "    \n",
    "    pre = preprocess(frame)\n",
    "    leftxBase,rightxBase = get_lane_start(pre)\n",
    "    pre[:20,:] = 0\n",
    "    cv2.imshow(\"grad Image\",pre)\n",
    "    grad = compute_energy_v2(pre)\n",
    "    pathL = select_dynamic_programming_path_going_up_point_start(grad,leftxBase)\n",
    "    pathR = select_dynamic_programming_path_going_up_point_start(grad,rightxBase)\n",
    "    new_img = create_path(frame,pathL,pathR,RED) \n",
    "    cv2.imshow('newImg', new_img)\n",
    "    \n",
    "    if cv2.waitKey(1) == ord('q'):\n",
    "        break\n",
    " \n",
    "cap.release()\n",
    "cv2.destroyAllWindows()"
   ]
  }
 ],
 "metadata": {
  "kernelspec": {
   "display_name": "raspberry",
   "language": "python",
   "name": "python3"
  },
  "language_info": {
   "codemirror_mode": {
    "name": "ipython",
    "version": 3
   },
   "file_extension": ".py",
   "mimetype": "text/x-python",
   "name": "python",
   "nbconvert_exporter": "python",
   "pygments_lexer": "ipython3",
   "version": "3.11.10"
  }
 },
 "nbformat": 4,
 "nbformat_minor": 2
}
