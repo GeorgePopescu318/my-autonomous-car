{
 "cells": [
  {
   "cell_type": "markdown",
   "metadata": {},
   "source": [
    "## Applying Energy Path algtm to road photos"
   ]
  },
  {
   "cell_type": "code",
   "execution_count": 1,
   "metadata": {},
   "outputs": [],
   "source": [
    "import cv2\n",
    "import numpy as np\n",
    "import matplotlib as plt"
   ]
  },
  {
   "cell_type": "code",
   "execution_count": 2,
   "metadata": {},
   "outputs": [],
   "source": [
    "RED = (0, 0, 255)"
   ]
  },
  {
   "cell_type": "code",
   "execution_count": 40,
   "metadata": {},
   "outputs": [],
   "source": [
    "img = cv2.imread(\"C:\\Programs/facultate/licenta/my-autonomous-car/resources/fullCurve.png\")\n"
   ]
  },
  {
   "cell_type": "code",
   "execution_count": 41,
   "metadata": {},
   "outputs": [
    {
     "name": "stdout",
     "output_type": "stream",
     "text": [
      "[[[207 212 209]\n",
      "  [220 225 222]\n",
      "  [224 230 225]\n",
      "  ...\n",
      "  [104 109 108]\n",
      "  [107 111 111]\n",
      "  [111 116 115]]\n",
      "\n",
      " [[201 207 203]\n",
      "  [224 230 226]\n",
      "  [222 228 223]\n",
      "  ...\n",
      "  [175 180 179]\n",
      "  [175 180 179]\n",
      "  [174 179 178]]\n",
      "\n",
      " [[181 187 184]\n",
      "  [227 232 229]\n",
      "  [224 230 225]\n",
      "  ...\n",
      "  [185 189 189]\n",
      "  [183 188 187]\n",
      "  [181 186 185]]\n",
      "\n",
      " ...\n",
      "\n",
      " [[ 66  70  64]\n",
      "  [ 66  70  64]\n",
      "  [ 66  70  64]\n",
      "  ...\n",
      "  [ 56  60  56]\n",
      "  [ 56  60  55]\n",
      "  [ 56  60  55]]\n",
      "\n",
      " [[ 66  70  64]\n",
      "  [ 66  70  64]\n",
      "  [ 66  70  64]\n",
      "  ...\n",
      "  [ 56  60  56]\n",
      "  [ 56  60  55]\n",
      "  [ 56  60  55]]\n",
      "\n",
      " [[ 66  70  64]\n",
      "  [ 66  70  64]\n",
      "  [ 66  70  64]\n",
      "  ...\n",
      "  [ 56  60  56]\n",
      "  [ 56  60  55]\n",
      "  [ 56  60  55]]]\n"
     ]
    }
   ],
   "source": [
    "print(img)"
   ]
  },
  {
   "cell_type": "code",
   "execution_count": 42,
   "metadata": {},
   "outputs": [],
   "source": [
    "\n",
    "cv2.imshow(\"original\",img)\n",
    "cv2.waitKey(0)\n",
    "cv2.destroyAllWindows()"
   ]
  },
  {
   "cell_type": "code",
   "execution_count": 6,
   "metadata": {},
   "outputs": [],
   "source": [
    "gray = cv2.cvtColor(img, cv2.COLOR_BGR2GRAY)\n",
    "\n",
    "cv2.imshow(\"gray\",gray)\n",
    "cv2.waitKey(0)\n",
    "cv2.destroyAllWindows()"
   ]
  },
  {
   "cell_type": "code",
   "execution_count": 7,
   "metadata": {},
   "outputs": [],
   "source": [
    "blurred = cv2.GaussianBlur(gray,(3,3),3)\n",
    "\n",
    "cv2.imshow(\"blurred\",blurred)\n",
    "cv2.waitKey(0)\n",
    "cv2.destroyAllWindows()"
   ]
  },
  {
   "cell_type": "markdown",
   "metadata": {},
   "source": [
    "### Classic binary thresholding"
   ]
  },
  {
   "cell_type": "code",
   "execution_count": 8,
   "metadata": {},
   "outputs": [],
   "source": [
    "_, threshClassis = cv2.threshold(blurred, 185, 255, cv2.THRESH_BINARY)\n",
    "# cv2.imwrite(\"classicTresh.jpg\",threshClassis)\n",
    "cv2.imshow(\"classic thresh\",threshClassis)\n",
    "cv2.waitKey(0)\n",
    "cv2.destroyAllWindows()"
   ]
  },
  {
   "cell_type": "markdown",
   "metadata": {},
   "source": [
    "### Adaptive binary thresholding"
   ]
  },
  {
   "cell_type": "code",
   "execution_count": 9,
   "metadata": {},
   "outputs": [],
   "source": [
    "threshAdap = cv2.adaptiveThreshold(blurred, 255,\n",
    "\tcv2.ADAPTIVE_THRESH_GAUSSIAN_C, cv2.THRESH_BINARY_INV, 5, 5)\n",
    "\n",
    "cv2.imshow(\"adaptive thresh\",threshAdap)\n",
    "cv2.waitKey(0)\n",
    "cv2.destroyAllWindows()"
   ]
  },
  {
   "cell_type": "markdown",
   "metadata": {},
   "source": [
    "### Morphological ops"
   ]
  },
  {
   "cell_type": "code",
   "execution_count": 10,
   "metadata": {},
   "outputs": [],
   "source": [
    "kernel = np.ones((3,3),np.uint8)\n",
    "closing = cv2.morphologyEx(threshClassis, cv2.MORPH_CLOSE, kernel)\n",
    "cv2.imshow(\"closed img\",closing)\n",
    "cv2.waitKey(0)\n",
    "cv2.destroyAllWindows()"
   ]
  },
  {
   "cell_type": "code",
   "execution_count": 11,
   "metadata": {},
   "outputs": [],
   "source": [
    "kernel = np.ones((3,3),np.uint8)\n",
    "opening = cv2.morphologyEx(threshClassis, cv2.MORPH_OPEN, kernel)\n",
    "cv2.imshow(\"opened img\",opening)\n",
    "cv2.waitKey(0)\n",
    "cv2.destroyAllWindows()"
   ]
  },
  {
   "cell_type": "code",
   "execution_count": 12,
   "metadata": {},
   "outputs": [],
   "source": [
    "_, threshClassis = cv2.threshold(blurred, 185, 255, cv2.THRESH_BINARY)\n",
    "# kernel = np.ones((3,3),np.uint8)\n",
    "kernel = cv2.getGaussianKernel(5,5)\n",
    "closing = cv2.morphologyEx(threshClassis, cv2.MORPH_CLOSE, kernel)\n",
    "opening = cv2.morphologyEx(threshClassis, cv2.MORPH_OPEN, kernel)\n",
    "\n",
    "# cv2.imwrite(\"classicTresh.jpg\",threshClassis)\n",
    "cv2.imshow(\"classic thresh\",threshClassis)\n",
    "cv2.imshow(\"opened img\",opening)\n",
    "cv2.imshow(\"closed img\",closing)\n",
    "cv2.waitKey(0)\n",
    "cv2.destroyAllWindows()"
   ]
  },
  {
   "cell_type": "markdown",
   "metadata": {},
   "source": [
    "### Gradient making"
   ]
  },
  {
   "cell_type": "code",
   "execution_count": 13,
   "metadata": {},
   "outputs": [],
   "source": [
    "def compute_energy(img):\n",
    "    \"\"\"\n",
    "    calculeaza energia la fiecare pixel pe baza gradientului\n",
    "    :param img: imaginea initiala\n",
    "    :return:E - energia\n",
    "    \"\"\"\n",
    "    # urmati urmatorii pasi:\n",
    "    # 1. transformati imagine in grayscale\n",
    "    # 2. folositi filtru sobel pentru a calcula gradientul in directia X si Y\n",
    "    # 3. calculati magnitudinea pentru fiecare pixel al imaginii\n",
    "    E = np.zeros((img.shape[0],img.shape[1]))\n",
    "    # img_grey = cv2.cvtColor(img,cv2.COLOR_BGR2GRAY)\n",
    "    grad_x = cv2.Sobel(img,ddepth=cv2.CV_16S,dx=1,dy=0)\n",
    "    grad_y = cv2.Sobel(img,ddepth=cv2.CV_16S,dx=0,dy=1)\n",
    "\n",
    "    abs_x = np.abs(grad_x)\n",
    "    abs_y = np.abs(grad_y)\n",
    "\n",
    "    E = abs_x + abs_y\n",
    "\n",
    "    return E"
   ]
  },
  {
   "cell_type": "code",
   "execution_count": 14,
   "metadata": {},
   "outputs": [],
   "source": [
    "gradient = compute_energy(opening)\n",
    "cv2.imshow(\"gradient img\",gradient)\n",
    "cv2.waitKey(0)\n",
    "cv2.destroyAllWindows()"
   ]
  },
  {
   "cell_type": "code",
   "execution_count": 37,
   "metadata": {},
   "outputs": [],
   "source": [
    "def select_dynamic_programming_path_going_up(E):\n",
    "    M = np.zeros(E.shape)\n",
    "    M[0,:] = E[0,:]\n",
    "    for i in range(1,E.shape[0]):\n",
    "        for j  in range (E.shape[1]):\n",
    "            if j == 0:\n",
    "                M[i][j] = E[i,j]+max(M[i-1,0],M[i-1,1])\n",
    "            elif j == E.shape[1] - 1:\n",
    "                M[i,j] = E[i,j]+max(M[i-1,j],M[i-1,j-1])\n",
    "            else:\n",
    "                M[i,j] = E[i,j]+max(M[i-1,j+1],M[i-1,j],M[i-1,j-1],M[i][j+1],M[i][j-1])\n",
    "    line = M.shape[0] - 1\n",
    "    col = np.argmax(M[line,:])\n",
    "    print(np.max(M[line,:]))\n",
    "    path = [0 for i in range(line+1)]\n",
    "\n",
    "    path[line] = (line,col)\n",
    "    \n",
    "    for line in range(M.shape[0]-2,-1,-1):\n",
    "        if col == 0:\n",
    "            if M[line,0] < M[line,1]:\n",
    "                new_col = 1\n",
    "            else:\n",
    "                new_col = 0\n",
    "        elif col == E.shape[1] - 1:\n",
    "            if M[line,col] < M[line,col-1]:\n",
    "                new_col = col - 1\n",
    "            else:\n",
    "                new_col = col\n",
    "        else:\n",
    "            neigh = np.array([M[line,col-1],M[line,col],M[line,col+1]])\n",
    "            new_col = col+np.argmax(neigh) - 1\n",
    "\n",
    "        path[line]= (line,new_col)\n",
    "\n",
    "        col = new_col\n",
    "\n",
    "    return path"
   ]
  },
  {
   "cell_type": "code",
   "execution_count": 33,
   "metadata": {},
   "outputs": [],
   "source": [
    "def select_dynamic_programming_path_going_sideways(E):\n",
    "    M = np.zeros(E.shape)\n",
    "    M[0,:] = E[0,:]\n",
    "    for i in range(1,E.shape[0]):\n",
    "        for j  in range (E.shape[1]):\n",
    "            if j == 0:\n",
    "                M[i][j] = E[i,j]+max(M[i-1,0],M[i-1,1])\n",
    "            elif j == E.shape[1] - 1:\n",
    "                M[i,j] = E[i,j]+max(M[i-1,j],M[i-1,j-1])\n",
    "            else:\n",
    "                M[i,j] = E[i,j]+max(M[i-1,j+1],M[i-1,j],M[i-1,j-1],M[i][j+1],M[i][j-1])\n",
    "    line = M.shape[0] - 1\n",
    "    col = np.argmax(M[line,:])\n",
    "    print(np.max(M[line,:]))\n",
    "    path = [0 for _ in range(60)]\n",
    "    # path = []\n",
    "    index = 0\n",
    "\n",
    "    path[index] = (line,col)\n",
    "\n",
    "    lineIndex = M.shape[0]-1\n",
    "    nextLine = False\n",
    "    while lineIndex > 0 and col >= 0 and col < M.shape[1] and index != 50:\n",
    "        if col == 0:\n",
    "            # if M[lineIndex,0] < M[lineIndex,1]:\n",
    "            #     new_col = 1\n",
    "            #     nextLine = False\n",
    "            # else:\n",
    "            #     new_col = 0\n",
    "            #     nextLine = False\n",
    "            if M[lineIndex-1,0] < M[lineIndex-1,1]:\n",
    "                new_col = 1\n",
    "                nextLine = True\n",
    "            else:\n",
    "                new_col = 0\n",
    "                nextLine = True\n",
    "        elif col == E.shape[1] - 1:\n",
    "            if M[lineIndex-1,col] < M[lineIndex-1,col-1]:\n",
    "                new_col = col - 1\n",
    "                nextLine = True\n",
    "            else:\n",
    "                new_col = col\n",
    "                nextLine = True\n",
    "        else:\n",
    "            same_line = np.array([M[lineIndex,col-1],M[lineIndex,col+1]])\n",
    "            upper_line = np.array([M[lineIndex-1,col-1],M[lineIndex-1,col],M[lineIndex-1,col+1]])\n",
    "            if np.max(same_line) > np.max(upper_line):\n",
    "                new_col = col+np.argmax(same_line) - 1\n",
    "                nextLine = False\n",
    "            else:\n",
    "                new_col = col+np.argmax(upper_line) - 1\n",
    "                nextLine = True\n",
    "\n",
    "        if nextLine:\n",
    "            lineIndex -= 1\n",
    "\n",
    "        index += 1  \n",
    "        path[index]= (lineIndex,new_col)\n",
    "\n",
    "        col = new_col\n",
    "    \n",
    "    return path"
   ]
  },
  {
   "cell_type": "code",
   "execution_count": 17,
   "metadata": {},
   "outputs": [],
   "source": [
    "def create_path(img, pathL,pathR, color):\n",
    "    \n",
    "    new_image = img.copy()\n",
    "\n",
    "    for row, col in pathL:\n",
    "        new_image[row, col] = color\n",
    "\n",
    "    for row, col in pathR:\n",
    "        new_image[row, col] = color\n",
    "\n",
    "    # E = compute_energy(img)\n",
    "    # new_image_E = img.copy()\n",
    "    # new_image_E[:,:,0] = E.copy()\n",
    "    # new_image_E[:,:,1] = E.copy()\n",
    "    # new_image_E[:,:,2] = E.copy()\n",
    "\n",
    "    # for row, col in path:\n",
    "    #     new_image_E[row, col] = color\n",
    "    # cv2.imshow(name, np.uint8(new_image))\n",
    "    return new_image\n",
    "    # cv2.imshow('path E', np.uint8(new_image_E))\n",
    "    # cv2.waitKey(0)\n",
    "    # cv2.destroyAllWindows()\n"
   ]
  },
  {
   "cell_type": "code",
   "execution_count": 27,
   "metadata": {},
   "outputs": [],
   "source": [
    "def preprocess(img):\n",
    "    gray = cv2.cvtColor(img, cv2.COLOR_BGR2GRAY)\n",
    "\n",
    "    blurred = cv2.GaussianBlur(gray,(3,3),3)\n",
    "\n",
    "    _, threshClassis = cv2.threshold(blurred, 185, 255, cv2.THRESH_BINARY)\n",
    "    \n",
    "    kernel = np.ones((3,3),np.uint8)\n",
    "    opening = cv2.morphologyEx(threshClassis, cv2.MORPH_OPEN, kernel)\n",
    "\n",
    "    return opening\n"
   ]
  },
  {
   "cell_type": "code",
   "execution_count": null,
   "metadata": {},
   "outputs": [],
   "source": [
    "pre = preprocess(img)\n",
    "preL = pre[:,:int(pre.shape[1]/2)]\n",
    "preR = pre[:,int(pre.shape[1]/2):]\n",
    "cv2.imshow('PreR', preR)\n",
    "cv2.waitKey(0)\n",
    "cv2.destroyAllWindows()"
   ]
  },
  {
   "cell_type": "markdown",
   "metadata": {},
   "source": [
    "### Path finding going always up"
   ]
  },
  {
   "cell_type": "code",
   "execution_count": 20,
   "metadata": {},
   "outputs": [],
   "source": [
    "cv2.imshow(\"a\",img)\n",
    "cv2.waitKey(0)\n",
    "cv2.destroyAllWindows()"
   ]
  },
  {
   "cell_type": "code",
   "execution_count": 46,
   "metadata": {},
   "outputs": [
    {
     "name": "stdout",
     "output_type": "stream",
     "text": [
      "345780.0\n",
      "[(0, np.int64(48)), (1, np.int64(49)), (2, np.int64(50)), (3, np.int64(50)), (4, np.int64(51)), (5, np.int64(51)), (6, np.int64(51)), (7, np.int64(51)), (8, np.int64(51)), (9, np.int64(50)), (10, np.int64(49)), (11, np.int64(48)), (12, np.int64(47)), (13, np.int64(46)), (14, np.int64(45)), (15, np.int64(44)), (16, np.int64(43)), (17, np.int64(42)), (18, np.int64(41)), (19, np.int64(40)), (20, np.int64(39)), (21, np.int64(38)), (22, np.int64(37)), (23, np.int64(36)), (24, np.int64(35)), (25, np.int64(34)), (26, np.int64(33)), (27, np.int64(32)), (28, np.int64(31)), (29, np.int64(30)), (30, np.int64(29)), (31, np.int64(28)), (32, np.int64(27)), (33, np.int64(26)), (34, np.int64(25)), (35, np.int64(24)), (36, np.int64(23)), (37, np.int64(22)), (38, np.int64(21)), (39, np.int64(20)), (40, np.int64(19)), (41, np.int64(18)), (42, np.int64(17)), (43, np.int64(16)), (44, np.int64(15)), (45, np.int64(14)), (46, np.int64(13)), (47, np.int64(12)), (48, np.int64(11)), (49, np.int64(10)), (50, np.int64(9)), (51, np.int64(8)), (52, np.int64(9)), (53, np.int64(10)), (54, np.int64(11)), (55, np.int64(12)), (56, np.int64(13)), (57, np.int64(14)), (58, np.int64(15)), (59, np.int64(16)), (60, np.int64(17)), (61, np.int64(18)), (62, np.int64(19)), (63, np.int64(20)), (64, np.int64(21)), (65, np.int64(22)), (66, np.int64(23)), (67, np.int64(24)), (68, np.int64(25)), (69, np.int64(26)), (70, np.int64(27)), (71, np.int64(28)), (72, np.int64(29)), (73, np.int64(29)), (74, np.int64(30)), (75, np.int64(31)), (76, np.int64(32)), (77, np.int64(33)), (78, np.int64(33)), (79, np.int64(34)), (80, np.int64(34)), (81, np.int64(35)), (82, np.int64(35)), (83, np.int64(36)), (84, np.int64(36)), (85, np.int64(36)), (86, np.int64(36)), (87, np.int64(37)), (88, np.int64(37)), (89, np.int64(37)), (90, np.int64(37)), (91, np.int64(37)), (92, np.int64(37)), (93, np.int64(38)), (94, np.int64(38)), (95, np.int64(38)), (96, np.int64(38)), (97, np.int64(38)), (98, np.int64(38)), (99, np.int64(38)), (100, np.int64(37)), (101, np.int64(37)), (102, np.int64(37)), (103, np.int64(37)), (104, np.int64(37)), (105, np.int64(37)), (106, np.int64(37)), (107, np.int64(37)), (108, np.int64(37)), (109, np.int64(36)), (110, np.int64(36)), (111, np.int64(36)), (112, np.int64(36)), (113, np.int64(35)), (114, np.int64(35)), (115, np.int64(35)), (116, np.int64(35)), (117, np.int64(34)), (118, np.int64(34)), (119, np.int64(34)), (120, np.int64(33)), (121, np.int64(33)), (122, np.int64(33)), (123, np.int64(32)), (124, np.int64(32)), (125, np.int64(32)), (126, np.int64(31)), (127, np.int64(31)), (128, np.int64(30)), (129, np.int64(30)), (130, np.int64(29)), (131, np.int64(29)), (132, np.int64(29)), (133, np.int64(28)), (134, np.int64(28)), (135, np.int64(27)), (136, np.int64(27)), (137, np.int64(26)), (138, np.int64(26)), (139, np.int64(25)), (140, np.int64(25)), (141, np.int64(24)), (142, np.int64(24)), (143, np.int64(23)), (144, np.int64(23)), (145, np.int64(22)), (146, np.int64(22)), (147, np.int64(21)), (148, np.int64(21)), (149, np.int64(20)), (150, np.int64(20)), (151, np.int64(19)), (152, np.int64(19)), (153, np.int64(18)), (154, np.int64(18)), (155, np.int64(17)), (156, np.int64(16)), (157, np.int64(16)), (158, np.int64(15)), (159, np.int64(15)), (160, np.int64(14)), (161, np.int64(13)), (162, np.int64(13)), (163, np.int64(12)), (164, np.int64(12)), (165, np.int64(11)), (166, np.int64(10)), (167, np.int64(10)), (168, np.int64(9)), (169, np.int64(9)), (170, np.int64(8)), (171, np.int64(8)), (172, np.int64(7)), (173, np.int64(6)), (174, np.int64(6)), (175, np.int64(5)), (176, np.int64(4)), (177, np.int64(4)), (178, np.int64(3)), (179, np.int64(3)), (180, np.int64(2)), (181, 1), (182, 0), (183, 0), (184, 0), (185, 0), (186, 0), (187, 0), (188, 0), (189, 0), (190, 0), (191, 0), (192, 0), (193, 0), (194, 0), (195, 0), (196, 0), (197, 0), (198, 0), (199, 0), (200, 0), (201, 0), (202, 0), (203, 0), (204, 0), (205, 0), (206, 0), (207, 0), (208, 0), (209, 0), (210, 0), (211, 0), (212, 0), (213, 0), (214, 0), (215, 0), (216, 0), (217, 0), (218, 0), (219, 0), (220, 0), (221, 0), (222, 0), (223, 0), (224, 0), (225, 0), (226, 0), (227, 0), (228, 0), (229, 0), (230, 0), (231, 0), (232, 0), (233, 0), (234, 0), (235, 0), (236, 0), (237, 0), (238, 0), (239, np.int64(0))]\n",
      "582930.0\n"
     ]
    }
   ],
   "source": [
    "pre = preprocess(img)\n",
    "preL = pre[:,:int(pre.shape[1]/2)]\n",
    "preR = pre[:,int(pre.shape[1]/2):]\n",
    "gradL = compute_energy(preL)\n",
    "gradR = compute_energy(preR)\n",
    "pathL = select_dynamic_programming_path_going_up(gradL)\n",
    "print(pathL)\n",
    "pathR = select_dynamic_programming_path_going_up(gradR)\n",
    "pathR =([(x,np.uint64(y + int(pre.shape[1]/2))) for x,y in pathR])\n",
    "\n",
    "# cv2.imshow('preprocess img', pre)\n",
    "cv2.imshow('gradientL img', gradL)\n",
    "cv2.imshow('gradientR img', gradR)\n",
    "new_img = create_path(img,pathL,pathR,RED)\n",
    "cv2.imshow(\"New Image\",new_img)\n",
    "cv2.waitKey(0)\n",
    "cv2.destroyAllWindows()"
   ]
  },
  {
   "cell_type": "markdown",
   "metadata": {},
   "source": [
    "### Path finding going sideways as well"
   ]
  },
  {
   "cell_type": "code",
   "execution_count": 36,
   "metadata": {},
   "outputs": [
    {
     "name": "stdout",
     "output_type": "stream",
     "text": [
      "266220.0\n",
      "[(239, np.int64(0)), (238, 0), (237, 0), (236, 0), (235, 0), (234, 0), (233, 0), (232, 0), (231, 0), (230, 0), (229, 0), (228, 0), (227, 0), (226, 0), (225, 0), (224, 0), (223, 0), (222, 0), (221, 0), (220, 0), (219, 0), (218, 0), (217, 0), (216, 0), (215, 0), (214, 0), (213, 0), (212, 0), (211, 0), (210, 0), (209, 0), (208, 0), (207, 0), (206, 0), (205, 0), (204, 0), (203, 1), (202, np.int64(2)), (202, np.int64(2)), (202, np.int64(2)), (202, np.int64(2)), (202, np.int64(2)), (202, np.int64(2)), (202, np.int64(2)), (202, np.int64(2)), (202, np.int64(2)), (202, np.int64(2)), (202, np.int64(2)), (202, np.int64(2)), (202, np.int64(2)), (202, np.int64(2)), 0, 0, 0, 0, 0, 0, 0, 0, 0]\n",
      "555900.0\n"
     ]
    },
    {
     "ename": "TypeError",
     "evalue": "cannot unpack non-iterable int object",
     "output_type": "error",
     "traceback": [
      "\u001b[1;31m---------------------------------------------------------------------------\u001b[0m",
      "\u001b[1;31mTypeError\u001b[0m                                 Traceback (most recent call last)",
      "Cell \u001b[1;32mIn[36], line 9\u001b[0m\n\u001b[0;32m      7\u001b[0m \u001b[38;5;28mprint\u001b[39m(pathL)\n\u001b[0;32m      8\u001b[0m pathR \u001b[38;5;241m=\u001b[39m select_dynamic_programming_path_going_sideways(gradR)\n\u001b[1;32m----> 9\u001b[0m pathR \u001b[38;5;241m=\u001b[39m(\u001b[43m[\u001b[49m\u001b[43m(\u001b[49m\u001b[43mx\u001b[49m\u001b[43m,\u001b[49m\u001b[43mnp\u001b[49m\u001b[38;5;241;43m.\u001b[39;49m\u001b[43muint64\u001b[49m\u001b[43m(\u001b[49m\u001b[43my\u001b[49m\u001b[43m \u001b[49m\u001b[38;5;241;43m+\u001b[39;49m\u001b[43m \u001b[49m\u001b[38;5;28;43mint\u001b[39;49m\u001b[43m(\u001b[49m\u001b[43mpre\u001b[49m\u001b[38;5;241;43m.\u001b[39;49m\u001b[43mshape\u001b[49m\u001b[43m[\u001b[49m\u001b[38;5;241;43m1\u001b[39;49m\u001b[43m]\u001b[49m\u001b[38;5;241;43m/\u001b[39;49m\u001b[38;5;241;43m2\u001b[39;49m\u001b[43m)\u001b[49m\u001b[43m)\u001b[49m\u001b[43m)\u001b[49m\u001b[43m \u001b[49m\u001b[38;5;28;43;01mfor\u001b[39;49;00m\u001b[43m \u001b[49m\u001b[43mx\u001b[49m\u001b[43m,\u001b[49m\u001b[43my\u001b[49m\u001b[43m \u001b[49m\u001b[38;5;129;43;01min\u001b[39;49;00m\u001b[43m \u001b[49m\u001b[43mpathR\u001b[49m\u001b[43m]\u001b[49m)\n\u001b[0;32m     10\u001b[0m \u001b[38;5;66;03m# # print(newPathR)\u001b[39;00m\n\u001b[0;32m     11\u001b[0m \u001b[38;5;66;03m# # cv2.imshow('preprocess img', pre)\u001b[39;00m\n\u001b[0;32m     12\u001b[0m \u001b[38;5;66;03m# cv2.imshow('gradientL img', gradL)\u001b[39;00m\n\u001b[0;32m     13\u001b[0m \u001b[38;5;66;03m# cv2.imshow('gradientR img', gradR)\u001b[39;00m\n\u001b[0;32m     14\u001b[0m new_img \u001b[38;5;241m=\u001b[39m create_path(img,pathL,pathR,RED)\n",
      "Cell \u001b[1;32mIn[36], line 9\u001b[0m, in \u001b[0;36m<listcomp>\u001b[1;34m(.0)\u001b[0m\n\u001b[0;32m      7\u001b[0m \u001b[38;5;28mprint\u001b[39m(pathL)\n\u001b[0;32m      8\u001b[0m pathR \u001b[38;5;241m=\u001b[39m select_dynamic_programming_path_going_sideways(gradR)\n\u001b[1;32m----> 9\u001b[0m pathR \u001b[38;5;241m=\u001b[39m([(x,np\u001b[38;5;241m.\u001b[39muint64(y \u001b[38;5;241m+\u001b[39m \u001b[38;5;28mint\u001b[39m(pre\u001b[38;5;241m.\u001b[39mshape[\u001b[38;5;241m1\u001b[39m]\u001b[38;5;241m/\u001b[39m\u001b[38;5;241m2\u001b[39m))) \u001b[38;5;28;01mfor\u001b[39;00m x,y \u001b[38;5;129;01min\u001b[39;00m pathR])\n\u001b[0;32m     10\u001b[0m \u001b[38;5;66;03m# # print(newPathR)\u001b[39;00m\n\u001b[0;32m     11\u001b[0m \u001b[38;5;66;03m# # cv2.imshow('preprocess img', pre)\u001b[39;00m\n\u001b[0;32m     12\u001b[0m \u001b[38;5;66;03m# cv2.imshow('gradientL img', gradL)\u001b[39;00m\n\u001b[0;32m     13\u001b[0m \u001b[38;5;66;03m# cv2.imshow('gradientR img', gradR)\u001b[39;00m\n\u001b[0;32m     14\u001b[0m new_img \u001b[38;5;241m=\u001b[39m create_path(img,pathL,pathR,RED)\n",
      "\u001b[1;31mTypeError\u001b[0m: cannot unpack non-iterable int object"
     ]
    }
   ],
   "source": [
    "pre = preprocess(img)\n",
    "preL = pre[:,:int(pre.shape[1]/2)]\n",
    "preR = pre[:,int(pre.shape[1]/2):]\n",
    "gradL = compute_energy(preL)\n",
    "gradR = compute_energy(preR)\n",
    "pathL = select_dynamic_programming_path_going_sideways(gradL)\n",
    "print(pathL)\n",
    "pathR = select_dynamic_programming_path_going_sideways(gradR)\n",
    "pathR =([(x,np.uint64(y + int(pre.shape[1]/2))) for x,y in pathR])\n",
    "# # print(newPathR)\n",
    "# # cv2.imshow('preprocess img', pre)\n",
    "# cv2.imshow('gradientL img', gradL)\n",
    "# cv2.imshow('gradientR img', gradR)\n",
    "new_img = create_path(img,pathL,pathR,RED)\n",
    "# cv2.imshow(\"New Image\",new_img)\n",
    "# cv2.waitKey(0)\n",
    "# cv2.destroyAllWindows()"
   ]
  },
  {
   "cell_type": "code",
   "execution_count": null,
   "metadata": {},
   "outputs": [],
   "source": [
    "cap = cv2.VideoCapture('C:/Programs/facultate/licenta/my-autonomous-car/resources/1.mp4')\n",
    " \n",
    "while cap.isOpened():\n",
    "    ret, frame = cap.read()\n",
    " \n",
    "    # if frame is read correctly ret is True\n",
    "    if not ret:\n",
    "        print(\"Can't receive frame (stream end?). Exiting ...\")\n",
    "        break\n",
    "\n",
    "    pre = preprocess(frame)\n",
    "    preL = pre[:,:int(pre.shape[1]/2)]\n",
    "    preR = pre[:,int(pre.shape[1]/2):]\n",
    "    gradL = compute_energy(preL)\n",
    "    gradR = compute_energy(preR)\n",
    "    pathL = select_dynamic_programming_path_going_up(gradL)\n",
    "    pathR = select_dynamic_programming_path_going_up(gradR)\n",
    "    pathR =([(x,np.uint64(y + int(pre.shape[1]/2))) for x,y in pathR])\n",
    "    new_img = create_path(frame,pathL,pathR,RED)\n",
    "    cv2.imshow(\"pre\",pre)\n",
    "    cv2.imshow('newImg', new_img)\n",
    "    \n",
    "    if cv2.waitKey(1) == ord('q'):\n",
    "        break\n",
    " \n",
    "cap.release()\n",
    "cv2.destroyAllWindows()"
   ]
  }
 ],
 "metadata": {
  "kernelspec": {
   "display_name": "raspberry",
   "language": "python",
   "name": "python3"
  },
  "language_info": {
   "codemirror_mode": {
    "name": "ipython",
    "version": 3
   },
   "file_extension": ".py",
   "mimetype": "text/x-python",
   "name": "python",
   "nbconvert_exporter": "python",
   "pygments_lexer": "ipython3",
   "version": "3.11.10"
  }
 },
 "nbformat": 4,
 "nbformat_minor": 2
}
