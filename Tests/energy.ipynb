{
 "cells": [
  {
   "cell_type": "markdown",
   "metadata": {},
   "source": [
    "## Applying Energy Path algtm to road photos"
   ]
  },
  {
   "cell_type": "code",
   "execution_count": 1,
   "metadata": {},
   "outputs": [],
   "source": [
    "import cv2\n",
    "import numpy as np\n",
    "import matplotlib as plt"
   ]
  },
  {
   "cell_type": "code",
   "execution_count": 2,
   "metadata": {},
   "outputs": [],
   "source": [
    "RED = (0, 0, 255)"
   ]
  },
  {
   "cell_type": "code",
   "execution_count": 3,
   "metadata": {},
   "outputs": [],
   "source": [
    "img = cv2.imread(\"img.jpg\")\n"
   ]
  },
  {
   "cell_type": "code",
   "execution_count": 4,
   "metadata": {},
   "outputs": [],
   "source": [
    "\n",
    "cv2.imshow(\"original\",img)\n",
    "cv2.waitKey(0)\n",
    "cv2.destroyAllWindows()"
   ]
  },
  {
   "cell_type": "code",
   "execution_count": 5,
   "metadata": {},
   "outputs": [],
   "source": [
    "gray = cv2.cvtColor(img, cv2.COLOR_BGR2GRAY)\n",
    "\n",
    "cv2.imshow(\"gray\",gray)\n",
    "cv2.waitKey(0)\n",
    "cv2.destroyAllWindows()"
   ]
  },
  {
   "cell_type": "code",
   "execution_count": 6,
   "metadata": {},
   "outputs": [],
   "source": [
    "blurred = cv2.GaussianBlur(gray,(3,3),3)\n",
    "\n",
    "cv2.imshow(\"blurred\",blurred)\n",
    "cv2.waitKey(0)\n",
    "cv2.destroyAllWindows()"
   ]
  },
  {
   "cell_type": "markdown",
   "metadata": {},
   "source": [
    "### Classic binary thresholding"
   ]
  },
  {
   "cell_type": "code",
   "execution_count": 7,
   "metadata": {},
   "outputs": [],
   "source": [
    "_, threshClassis = cv2.threshold(blurred, 185, 255, cv2.THRESH_BINARY)\n",
    "# cv2.imwrite(\"classicTresh.jpg\",threshClassis)\n",
    "cv2.imshow(\"classic thresh\",threshClassis)\n",
    "cv2.waitKey(0)\n",
    "cv2.destroyAllWindows()"
   ]
  },
  {
   "cell_type": "markdown",
   "metadata": {},
   "source": [
    "### Adaptive binary thresholding"
   ]
  },
  {
   "cell_type": "code",
   "execution_count": 8,
   "metadata": {},
   "outputs": [],
   "source": [
    "threshAdap = cv2.adaptiveThreshold(blurred, 255,\n",
    "\tcv2.ADAPTIVE_THRESH_GAUSSIAN_C, cv2.THRESH_BINARY_INV, 5, 5)\n",
    "\n",
    "cv2.imshow(\"adaptive thresh\",threshAdap)\n",
    "cv2.waitKey(0)\n",
    "cv2.destroyAllWindows()"
   ]
  },
  {
   "cell_type": "markdown",
   "metadata": {},
   "source": [
    "### Morphological ops"
   ]
  },
  {
   "cell_type": "code",
   "execution_count": 9,
   "metadata": {},
   "outputs": [],
   "source": [
    "kernel = np.ones((5,5),np.uint8)\n",
    "closing = cv2.morphologyEx(threshClassis, cv2.MORPH_CLOSE, kernel)\n",
    "cv2.imshow(\"closed img\",closing)\n",
    "cv2.waitKey(0)\n",
    "cv2.destroyAllWindows()"
   ]
  },
  {
   "cell_type": "code",
   "execution_count": 10,
   "metadata": {},
   "outputs": [],
   "source": [
    "kernel = np.ones((3,3),np.uint8)\n",
    "opening = cv2.morphologyEx(threshClassis, cv2.MORPH_OPEN, kernel)\n",
    "cv2.imshow(\"opened img\",opening)\n",
    "cv2.waitKey(0)\n",
    "cv2.destroyAllWindows()"
   ]
  },
  {
   "cell_type": "code",
   "execution_count": 11,
   "metadata": {},
   "outputs": [],
   "source": [
    "def compute_energy(img):\n",
    "    \"\"\"\n",
    "    calculeaza energia la fiecare pixel pe baza gradientului\n",
    "    :param img: imaginea initiala\n",
    "    :return:E - energia\n",
    "    \"\"\"\n",
    "    # urmati urmatorii pasi:\n",
    "    # 1. transformati imagine in grayscale\n",
    "    # 2. folositi filtru sobel pentru a calcula gradientul in directia X si Y\n",
    "    # 3. calculati magnitudinea pentru fiecare pixel al imaginii\n",
    "    E = np.zeros((img.shape[0],img.shape[1]))\n",
    "    # img_grey = cv2.cvtColor(img,cv2.COLOR_BGR2GRAY)\n",
    "    grad_x = cv2.Sobel(img,ddepth=cv2.CV_16S,dx=1,dy=0)\n",
    "    grad_y = cv2.Sobel(img,ddepth=cv2.CV_16S,dx=0,dy=1)\n",
    "\n",
    "    abs_x = np.abs(grad_x)\n",
    "    abs_y = np.abs(grad_y)\n",
    "\n",
    "    E = abs_x + abs_y\n",
    "\n",
    "    return E"
   ]
  },
  {
   "cell_type": "code",
   "execution_count": 12,
   "metadata": {},
   "outputs": [],
   "source": [
    "gradient = compute_energy(opening)\n",
    "cv2.imshow(\"gradient img\",gradient)\n",
    "cv2.waitKey(0)\n",
    "cv2.destroyAllWindows()"
   ]
  },
  {
   "cell_type": "code",
   "execution_count": 20,
   "metadata": {},
   "outputs": [],
   "source": [
    "def select_dynamic_programming_path(E):\n",
    "    M = np.zeros(E.shape)\n",
    "    M[0,:] = E[0,:]\n",
    "    for i in range(1,E.shape[0]):\n",
    "        for j  in range (E.shape[1]):\n",
    "            if j == 0:\n",
    "                M[i][j] = E[i,j]+max(M[i-1,0],M[i-1,1])\n",
    "            elif j == E.shape[1] - 1:\n",
    "                M[i,j] = E[i,j]+max(M[i-1,j],M[i-1,j-1])\n",
    "            else:\n",
    "                M[i,j] = E[i,j]+max(M[i-1,j+1],M[i-1,j],M[i-1,j-1],M[i][j+1],M[i][j-1])\n",
    "    line = M.shape[0] - 1\n",
    "    col = np.argmax(M[line,:])\n",
    "    path = [0 for i in range(line+1)]\n",
    "\n",
    "    path[line] = (line,col)\n",
    "    \n",
    "    for line in range(M.shape[0]-2,-1,-1):\n",
    "        if col == 0:\n",
    "            if M[line,0] < M[line,1]:\n",
    "                new_col = 1\n",
    "            else:\n",
    "                new_col = 0\n",
    "        elif col == E.shape[1] - 1:\n",
    "            if M[line,col] < M[line,col-1]:\n",
    "                new_col = col - 1\n",
    "            else:\n",
    "                new_col = col\n",
    "        else:\n",
    "            neigh = np.array([M[line,col-1],M[line,col],M[line,col+1]])\n",
    "            new_col = col+np.argmax(neigh) - 1\n",
    "\n",
    "        path[line]= (line,new_col)\n",
    "\n",
    "        col = new_col\n",
    "\n",
    "    return path"
   ]
  },
  {
   "cell_type": "code",
   "execution_count": 14,
   "metadata": {},
   "outputs": [],
   "source": [
    "def create_path(img, pathL,pathR, color):\n",
    "    \n",
    "    new_image = img.copy()\n",
    "\n",
    "    for row, col in pathL:\n",
    "        new_image[row, col] = color\n",
    "\n",
    "    for row, col in pathR:\n",
    "        new_image[row, col] = color\n",
    "\n",
    "    # E = compute_energy(img)\n",
    "    # new_image_E = img.copy()\n",
    "    # new_image_E[:,:,0] = E.copy()\n",
    "    # new_image_E[:,:,1] = E.copy()\n",
    "    # new_image_E[:,:,2] = E.copy()\n",
    "\n",
    "    # for row, col in path:\n",
    "    #     new_image_E[row, col] = color\n",
    "    # cv2.imshow(name, np.uint8(new_image))\n",
    "    return new_image\n",
    "    # cv2.imshow('path E', np.uint8(new_image_E))\n",
    "    # cv2.waitKey(0)\n",
    "    # cv2.destroyAllWindows()\n"
   ]
  },
  {
   "cell_type": "code",
   "execution_count": 15,
   "metadata": {},
   "outputs": [],
   "source": [
    "def preprocess(img):\n",
    "    gray = cv2.cvtColor(img, cv2.COLOR_BGR2GRAY)\n",
    "\n",
    "    blurred = cv2.GaussianBlur(gray,(3,3),3)\n",
    "\n",
    "    _, threshClassis = cv2.threshold(blurred, 185, 255, cv2.THRESH_BINARY)\n",
    "    \n",
    "    kernel = np.ones((3,3),np.uint8)\n",
    "    opening = cv2.morphologyEx(threshClassis, cv2.MORPH_OPEN, kernel)\n",
    "\n",
    "    return opening\n"
   ]
  },
  {
   "cell_type": "code",
   "execution_count": 16,
   "metadata": {},
   "outputs": [],
   "source": [
    "pre = preprocess(img)\n",
    "preL = pre[:,:int(pre.shape[1]/2)]\n",
    "preR = pre[:,int(pre.shape[1]/2):]\n",
    "cv2.imshow('gradient img', preR)\n",
    "cv2.waitKey(0)\n",
    "cv2.destroyAllWindows()"
   ]
  },
  {
   "cell_type": "code",
   "execution_count": 21,
   "metadata": {},
   "outputs": [],
   "source": [
    "pre = preprocess(img)\n",
    "preL = pre[:,:int(pre.shape[1]/2)]\n",
    "preR = pre[:,int(pre.shape[1]/2):]\n",
    "gradL = compute_energy(preL)\n",
    "gradR = compute_energy(preR)\n",
    "pathL = select_dynamic_programming_path(gradL)\n",
    "pathR = select_dynamic_programming_path(gradR)\n",
    "pathR =([(x,np.uint64(y + int(pre.shape[1]/2))) for x,y in pathR])\n",
    "# print(newPathR)\n",
    "# cv2.imshow('preprocess img', pre)\n",
    "cv2.imshow('gradientL img', gradL)\n",
    "cv2.imshow('gradientR img', gradR)\n",
    "new_img = create_path(img,pathL,pathR,RED)\n",
    "cv2.imshow(\"New Image\",new_img)\n",
    "cv2.waitKey(0)\n",
    "cv2.destroyAllWindows()"
   ]
  },
  {
   "cell_type": "code",
   "execution_count": 22,
   "metadata": {},
   "outputs": [],
   "source": [
    "cap = cv2.VideoCapture('C:/Programs/facultate/licenta/my-autonomous-car/resources/1.mp4')\n",
    " \n",
    "while cap.isOpened():\n",
    "    ret, frame = cap.read()\n",
    " \n",
    "    # if frame is read correctly ret is True\n",
    "    if not ret:\n",
    "        print(\"Can't receive frame (stream end?). Exiting ...\")\n",
    "        break\n",
    "\n",
    "    pre = preprocess(frame)\n",
    "    preL = pre[:,:int(pre.shape[1]/2)]\n",
    "    preR = pre[:,int(pre.shape[1]/2):]\n",
    "    gradL = compute_energy(preL)\n",
    "    gradR = compute_energy(preR)\n",
    "    pathL = select_dynamic_programming_path(gradL)\n",
    "    pathR = select_dynamic_programming_path(gradR)\n",
    "    pathR =([(x,np.uint64(y + int(pre.shape[1]/2))) for x,y in pathR])\n",
    "    new_img = create_path(frame,pathL,pathR,RED)\n",
    "    cv2.imshow(\"pre\",pre)\n",
    "    cv2.imshow('newImg', new_img)\n",
    "    \n",
    "    if cv2.waitKey(1) == ord('q'):\n",
    "        break\n",
    " \n",
    "cap.release()\n",
    "cv2.destroyAllWindows()"
   ]
  }
 ],
 "metadata": {
  "kernelspec": {
   "display_name": "raspberry",
   "language": "python",
   "name": "python3"
  },
  "language_info": {
   "codemirror_mode": {
    "name": "ipython",
    "version": 3
   },
   "file_extension": ".py",
   "mimetype": "text/x-python",
   "name": "python",
   "nbconvert_exporter": "python",
   "pygments_lexer": "ipython3",
   "version": "3.11.10"
  }
 },
 "nbformat": 4,
 "nbformat_minor": 2
}
